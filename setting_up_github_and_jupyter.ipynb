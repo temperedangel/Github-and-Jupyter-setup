{
  "cells": [
    {
      "cell_type": "markdown",
      "metadata": {
        "id": "view-in-github",
        "colab_type": "text"
      },
      "source": [
        "<a href=\"https://colab.research.google.com/github/temperedangel/Github-and-Jupyter-setup/blob/main/setting_up_github_and_jupyter.ipynb\" target=\"_parent\"><img src=\"https://colab.research.google.com/assets/colab-badge.svg\" alt=\"Open In Colab\"/></a>"
      ]
    },
    {
      "cell_type": "markdown",
      "metadata": {
        "id": "BxpXw-jU7_5V"
      },
      "source": [
        "# Intro to Human-Centered Data Science\n",
        "## Setting up GitHub and JupyterHub\n",
        "If you're reading this, you successfully forked the Git repo for this assignment from GitHub. Congratulations!   \n",
        "  \n",
        "Now that you've done that, you can see the first Jupyter Notebook for the class. To continue the assignment, let's do a few things with the notebook that we'll often see in data science tasks. But first, let's take a look at the Notebook itself. One of many great things about Jupyter Notebooks is that we can combine text, programming code, and visualizations in the same file."
      ]
    },
    {
      "cell_type": "markdown",
      "metadata": {
        "id": "RjjF3dFn7_5W"
      },
      "source": [
        "### Cells\n",
        "Jupyter Notebooks contain *cells* where you can write code an text, display visualizations, etc. You put content into a cell and then run the cell to get an output. Let's take a closer look at how to enter and run Python code in a cell.   \n",
        "   \n",
        "The cell below contains a simple Python statement that adds and prints two numbers. Move your mouse over the cell and click into it. You can run the cell in two ways:\n",
        "1. When you hover over or click into a cell in Colab, you'll see a triangle icon, the play button, appear on the left side. Click that, and the cell will run.\n",
        "2. Type Shift+Enter on your keyboard after clicking on the cell.  "
      ]
    },
    {
      "cell_type": "code",
      "execution_count": null,
      "metadata": {
        "id": "C5FmO47M7_5W"
      },
      "outputs": [],
      "source": [
        "## Our first line of Python code. Run this cell by clicking on the run button\n",
        "## in the top menu or clicking Shift+Enter anywhere in the cell.\n",
        "\n",
        "25 + 75"
      ]
    },
    {
      "cell_type": "markdown",
      "metadata": {
        "id": "OC7N8gGht9Ge"
      },
      "source": [
        "You should see the number 100 if the cell ran successfully. Each cell will print the last returned value if there is one. For example, you won't see 100 in the code below because...well, let's see what happens."
      ]
    },
    {
      "cell_type": "code",
      "execution_count": null,
      "metadata": {
        "id": "jIk_kvpst9Ge"
      },
      "outputs": [],
      "source": [
        "my_sum = 25 + 75"
      ]
    },
    {
      "cell_type": "markdown",
      "metadata": {
        "id": "3O9wm6Tlt9Gf"
      },
      "source": [
        "What happened here is that we assigned the sum of 25 and 75 to a variable named `my_sum`. You'll make a lot of assignments like this.   \n",
        "\n",
        "But assigning a value to a variable doesn't return anything. If we want to *see* the result when we run a cell, we can just name the variable. Because a variable will always return itself.\n"
      ]
    },
    {
      "cell_type": "code",
      "execution_count": null,
      "metadata": {
        "id": "ZwBR_vKAt9Gf"
      },
      "outputs": [],
      "source": [
        "my_second_sum = 90 + 10\n",
        "my_second_sum"
      ]
    },
    {
      "cell_type": "markdown",
      "metadata": {
        "id": "e4Tw7AmVt9Gf"
      },
      "source": [
        "We could also, at any time, use `print` to display text and variables."
      ]
    },
    {
      "cell_type": "code",
      "execution_count": null,
      "metadata": {
        "id": "OhULLrSet9Gg"
      },
      "outputs": [],
      "source": [
        "print(25 + 75)\n",
        "print(my_second_sum)"
      ]
    },
    {
      "cell_type": "markdown",
      "metadata": {
        "id": "zOY2cw08t9Gg"
      },
      "source": [
        "`print` is extremely useful. You can also combine it with other text to make longer statements. For example, let's print some explanatory text with the sums."
      ]
    },
    {
      "cell_type": "code",
      "execution_count": null,
      "metadata": {
        "id": "dLEj6P4vt9Gg"
      },
      "outputs": [],
      "source": [
        "print(\"25 + 75 =\", 25 + 75)\n",
        "print(my_second_sum, 'is the sum of 90 and 10')"
      ]
    },
    {
      "cell_type": "markdown",
      "metadata": {
        "id": "iK0Phzrzt9Gg"
      },
      "source": [
        "See how we can combine strings (things in between single or double quotes) with variables or other expressions.  \n",
        "\n",
        "Here's a slightly more complicated example. You'll see three printed lines after running the next cell telling you if a sentence has has a positive, negative, or neutral tone."
      ]
    },
    {
      "cell_type": "code",
      "execution_count": null,
      "metadata": {
        "id": "eXvkJBSg7_5X"
      },
      "outputs": [],
      "source": [
        "import string\n",
        "\n",
        "# here's a very simple way to do sentiment analysis\n",
        "def sentiment_analysis(text):\n",
        "  # List of positive words\n",
        "  positive_words = [\"good\", \"great\", \"excellent\", \"love\", \"happy\"]\n",
        "\n",
        "  # List of negative words\n",
        "  negative_words = [\"bad\", \"terrible\", \"hate\", \"sad\", \"unhappy\"]\n",
        "\n",
        "  # remove punctuation\n",
        "  text = text.translate(str.maketrans('', '', string.punctuation))\n",
        "\n",
        "  # Make the text all lowercase. Then split into individual words\n",
        "  words = text.lower().split()\n",
        "\n",
        "  # count the number of positive and negative words\n",
        "  positive_count = sum([1 for word in words if word in\n",
        "positive_words])\n",
        "  negative_count = sum([1 for word in words if word in\n",
        "negative_words])\n",
        "\n",
        "  # If more positive words than negative words, return 'positive'\n",
        "  if positive_count > negative_count:\n",
        "      return 'positive'\n",
        "  # If more negative words than positive words, return 'negative'\n",
        "  elif positive_count < negative_count:\n",
        "      return 'negative'\n",
        "  # else return 'neutral'\n",
        "  else:\n",
        "      return 'neutral'\n",
        "\n",
        "# Test the function\n",
        "print(\"'I had a great time!' is\", sentiment_analysis(\"I had a great time!\"))  # Output: positive\n",
        "print(\"'I was unhappy!' is\", sentiment_analysis(\"I was unhappy.\"))  # Output: negative\n",
        "print(\"'I feel blah today.' is\", sentiment_analysis(\"I feel blah today.\"))  # Output: neutral\n"
      ]
    },
    {
      "cell_type": "markdown",
      "metadata": {
        "id": "C6tWXtEi3324"
      },
      "source": [
        "That's a *very* simplified version of *sentiment analysis*, determining whether a sentence or phrase is positive, negative, or neutral. It's a useful technique in text analysis, and you'll certainly see more realistic implementations of it later in the program.  \n",
        "\n",
        "The important thing for now is that you can run Python code and see results in Juputer Notebook cells."
      ]
    },
    {
      "cell_type": "markdown",
      "metadata": {
        "id": "-gcGUVW67_5X"
      },
      "source": [
        "### Markdown\n",
        "The text you're reading now is in a format called [Markdown](https://www.markdownguide.org). Markdown is a simple language that lets you add formatting to plain text documents. You're used to formatting text by clicking on words or phrases and then selecting a format, e.g., bold, italic, Header, etc. In Markdown, you don't do apply formats this way: Instead, we add special codes to the text to specify the way it should appear.`\n",
        "\n",
        "For example, the first line in this document is a heading. To make it appear large, we add a number sign before (e.g., `# Intro to Human-Centered Data Science`). You can make _italicized_ by adding an asterisk or underscore before and after it (e.g.,  `_Jupyter Notebooks are great!_`). Want text in **bold**? Add two asterisks before and after the text (e.g., `**my bold text**`).  \n",
        "\n",
        "A Jupyter Notebook cell can be set to edit and display text with Markdown formats. It's a useful way to add documentation to your project with all the benefits of formatted text. [Here's](https://www.markdownguide.org/cheat-sheet/) a useful cheatsheet that describes all the Markdown syntax. Let's practice using some of the codes you'll use often.    \n"
      ]
    },
    {
      "cell_type": "markdown",
      "metadata": {
        "id": "5fj-N5fC7_5X"
      },
      "source": [
        "Using the [cheat sheet](https://www.markdownguide.org/cheat-sheet/) as a guide, write a short piece of text introducing yourself below adding the following formatting in Markdown:\n",
        "1. Include a *heading* with your name.\n",
        "2. Tell us where you did your undergraduate degree. Format the university in **bold** and *italicize* your major.\n",
        "3. Tell is why you decided to studay data science. Highlight your response using as a *blockquote*\n",
        "4. Name three of your hobbies using a *numbered* list.\n",
        "5. Provide the name of a web site that you often visit and include a *hyperlink* to that site."
      ]
    },
    {
      "cell_type": "markdown",
      "metadata": {
        "id": "KhKI1C8w7_5X"
      },
      "source": [
        "### ENTER YOUR TEXT WITH MARKDOWN BELOW  \n",
        "To edit a Markdown cell, you need to double-click it.  \n",
        "\n",
        "When you're done entering your text, hit Shift-Enter to run the cell and see the formatted text!\n"
      ]
    },
    {
      "cell_type": "markdown",
      "metadata": {
        "id": "7nI2C8eo7_5X"
      },
      "source": [
        "### Importing Python libraries\n",
        "We learned earlier that the Python programming language has many libraries that provide useful tools for free. We use a Python command called `import` to include a library in a Notebook. For example, the statement `import math` will make Python's math library available in our Notebook. The library lives in what is called a _module_. Think of it as a container filled with lots of math functions and constants. We have use what's called _dot notation_ to access the functions inside the module. Look at the code below for an example:\n"
      ]
    },
    {
      "cell_type": "code",
      "execution_count": null,
      "metadata": {
        "id": "ZY6fp0vH7_5X"
      },
      "outputs": [],
      "source": [
        "import math\n",
        "print(math)"
      ]
    },
    {
      "cell_type": "markdown",
      "metadata": {
        "id": "4hyAdc6X7_5X"
      },
      "source": [
        "We used `import` to bring the math library into our Notebook. When we print math, we see its type identifier. Don't worry too much about this except to note that it is a module. Now let's access the content `pi` within the module."
      ]
    },
    {
      "cell_type": "code",
      "execution_count": null,
      "metadata": {
        "id": "ijVly_dE7_5Y"
      },
      "outputs": [],
      "source": [
        "print(math.pi)"
      ]
    },
    {
      "cell_type": "markdown",
      "metadata": {
        "id": "CV1nGgVf7_5Y"
      },
      "source": [
        "There's the dot notation. We write `math.pi` to access the constant value 3.14. What happens if we try to ask for pi _without_ the math module?"
      ]
    },
    {
      "cell_type": "code",
      "execution_count": null,
      "metadata": {
        "id": "MuY1DT4c7_5Y"
      },
      "outputs": [],
      "source": [
        "print(pi)"
      ]
    },
    {
      "cell_type": "markdown",
      "metadata": {
        "id": "h_Fr6enY7_5Y"
      },
      "source": [
        "Look at all of that text above: That's Python's way of signaling an error. As you can guess, 'pi' is undefined. But `math.pi` *is* defined and ours to use once we import math. In fact, we can call lots of math functions using dot notation:"
      ]
    },
    {
      "cell_type": "code",
      "execution_count": null,
      "metadata": {
        "id": "a4xOG6xr7_5Y"
      },
      "outputs": [],
      "source": [
        "print(\"The factorial of 5 is =\", math.factorial(5))\n",
        "print(\"90 degrees in radians =\", math.radians(90))\n",
        "print(\"The sine of 90 degrees =\", math.sin(math.radians(90)))\n",
        "print(\"We can represent non-numbers with\", math.nan)"
      ]
    },
    {
      "cell_type": "markdown",
      "metadata": {
        "id": "KWkEUEtH7_5Y"
      },
      "source": [
        "Don't worry too much about the actual math. The important thing to note here is we import libraries as modules, and we access things inside of them with `module_name.function_or_constant_name` (e.g., `math.inf` returns a constant for positive infinity).  \n",
        "\n",
        "Sometimes we only want to import a few functions or constants from a library. As an example, imagine we only need the constant `pi` and the function `pow` from the math library. We can do the following to just get those two:"
      ]
    },
    {
      "cell_type": "code",
      "execution_count": null,
      "metadata": {
        "id": "SuQyJaGD7_5Y"
      },
      "outputs": [],
      "source": [
        "from math import pi, pow\n",
        "print(pi)\n",
        "print(\"2 to the 5th power =\", pow(2,5))"
      ]
    },
    {
      "cell_type": "markdown",
      "metadata": {
        "id": "lmeO7_y07_5Y"
      },
      "source": [
        "We can also import a library and give it an alias. For example, we will us a library named `pandas` **a lot** in this and other courses. You often see the pandas module given the nickname or alias `pd`. Here's how to do that:"
      ]
    },
    {
      "cell_type": "code",
      "execution_count": null,
      "metadata": {
        "id": "AAfJGvcMt9Gi"
      },
      "outputs": [],
      "source": [
        "import pandas as pd\n",
        "print(type(pd))"
      ]
    },
    {
      "cell_type": "markdown",
      "metadata": {
        "id": "IPHt2Oqrt9Gi"
      },
      "source": [
        "You can see that we import pandas *as* `pd`. Then we can use dot notation on `pd` to use functions in the pandas library. We printed `pd` to make sure it's a module."
      ]
    },
    {
      "cell_type": "markdown",
      "metadata": {
        "id": "q00V2e_St9Gj"
      },
      "source": [
        "Now let's use pandas (`pd`) to do something. How about starting by making a basic column of numerical data."
      ]
    },
    {
      "cell_type": "code",
      "execution_count": null,
      "metadata": {
        "id": "TdtVfyfA7_5Y"
      },
      "outputs": [],
      "source": [
        "my_series = pd.Series([1,3, 5, 7, 9])\n",
        "my_series"
      ]
    },
    {
      "cell_type": "markdown",
      "metadata": {
        "id": "t3XsHaV57_5Y"
      },
      "source": [
        "We called a function named `Series` to make a one-dimensional array of numbers. Think of a `Series` as a single column or row in a data table."
      ]
    },
    {
      "cell_type": "markdown",
      "metadata": {
        "id": "vaOYQzAo7_5Y"
      },
      "source": [
        "### Loading data from a file into a `pandas` `DataFrame`"
      ]
    },
    {
      "cell_type": "markdown",
      "metadata": {
        "id": "3zai2-db7_5Y"
      },
      "source": [
        "We'll often have data stored in a file or database that we want to load into a Notebook. pandas has a set of [input/output functions](https://pandas.pydata.org/docs/user_guide/io.html) that let us load and store data from HTML, common-separated value (CSV), Excel, SQL, and other files. Let's try a simple example with a CSV file.  \n",
        "\n",
        "We're going to load a dataset created by [Sling Academy](https://www.slingacademy.com) containing data about high school students. Well, fake high school students. You can learn more about the content of the data from the Sling Academy [overview](https://www.slingacademy.com/article/student-scores-sample-data-csv-json-xlsx-xml/#Overview).\n",
        "  \n",
        "We'll use a pandas function, `read_csv`, to read the file. First, we'll specify the location of the file in a variable named `student_scores_URL`. Then we load from that URL with `read_csv`."
      ]
    },
    {
      "cell_type": "code",
      "execution_count": null,
      "metadata": {
        "id": "8N2sgQTW7_5Z"
      },
      "outputs": [],
      "source": [
        "student_scores_URL = \"https://raw.githubusercontent.com/bsmith-classroom/Github-and-Jupyter-setup/main/student-scores.csv\"\n",
        "\n",
        "df = pd.read_csv(student_scores_URL)\n"
      ]
    },
    {
      "cell_type": "markdown",
      "metadata": {
        "id": "RGADH9cy7_5Z"
      },
      "source": [
        "Here's what we just did:\n",
        "1. We called `pd.read_csv` with the name of our data file, student-scores.csv.\n",
        "2. `read_csv` loads the file and converts it to a pandas `DataFrame`. A `DataFrame` is like an Excel sheet, a bunch of data elements in rows with different attributes or features in the columns. We assign the new `DataFrame` to a variable called `df`.\n",
        "3. Now that `df` is defined as a `DataFrame`, we can use dot notation to run `DataFrame` functions on it. One of those is called `head` which returns the first five rows of the data table.\n",
        "\n",
        "`.head()` is used... a lot. Let's run in now to see what we get."
      ]
    },
    {
      "cell_type": "code",
      "execution_count": null,
      "metadata": {
        "id": "pNYtu1GYt9Gj"
      },
      "outputs": [],
      "source": [
        "df.head()"
      ]
    },
    {
      "cell_type": "markdown",
      "metadata": {
        "id": "JavaSsiFt9Gj"
      },
      "source": [
        "You see that the columns of the table are named things like `first_name`, `last_name`, `gender`, etc. This is a table of (fake) student records, so you'll also see things like `absence_days`, `math_score`, `physics_score`, etc. You can imagine a scenario where these data might be used to understand patterns or relations between variables (e.g., are there correlations betweem math and physics scores). We'll do more of that kind of analysis in the next module.  \n",
        "\n",
        "Here are some other useful `pandas` functions that we'll use a lot."
      ]
    },
    {
      "cell_type": "code",
      "execution_count": null,
      "metadata": {
        "id": "Jc0qopqSt9Gn"
      },
      "outputs": [],
      "source": [
        "df.tail()"
      ]
    },
    {
      "cell_type": "markdown",
      "metadata": {
        "id": "qW08QZ9Nt9Go"
      },
      "source": [
        "We should obviously be able to look at the tail of a `DataFrame` if we can look at the head. `.tail()` gives you the last five elements in a `DataFrame`.  \n",
        "\n",
        "By the way, you can always ask for more than five elements...just put the desired number in the function call. For example, this will give us the last 12 rows of the data:"
      ]
    },
    {
      "cell_type": "code",
      "execution_count": null,
      "metadata": {
        "id": "ZR8HzF46t9Go"
      },
      "outputs": [],
      "source": [
        "df.tail(12)"
      ]
    },
    {
      "cell_type": "markdown",
      "metadata": {
        "id": "_i0DH83Ct9Go"
      },
      "source": [
        "And here are the first 9 rows."
      ]
    },
    {
      "cell_type": "code",
      "execution_count": null,
      "metadata": {
        "id": "h2ZwAcr6t9Go"
      },
      "outputs": [],
      "source": [
        "df.head(9)"
      ]
    },
    {
      "cell_type": "markdown",
      "metadata": {
        "id": "jxspiM1Lt9Go"
      },
      "source": [
        "`.info()` gives a nice summary of the `DataFrame`."
      ]
    },
    {
      "cell_type": "code",
      "execution_count": null,
      "metadata": {
        "id": "ousOytVRt9Go"
      },
      "outputs": [],
      "source": [
        "df.info()"
      ]
    },
    {
      "cell_type": "markdown",
      "metadata": {
        "id": "2BmiXi8Yt9Go"
      },
      "source": [
        "`.info()` gives a few useful pieces of information. First, it has a `RangeIndex` that tells us how many rows are in the `DataFrame`. In this case, we have 2000 rows of data. We can also see the column names in the `DataFrame`. For each column, we see the number of *non-null* values &nbsp; how many values in each column are present vs. missing. Thankfully, we don't have any missing values in this dataset. Finally, we can see the `dtype` or data type for each column. Some of these are `int` for integer, `bool` for boolean (e.g., True or False) or just generic `object`...those are often text strings. `.info()` tells us a lot about the types of data we have and if we need to deal with missing values."
      ]
    },
    {
      "cell_type": "code",
      "execution_count": null,
      "metadata": {
        "id": "5xhJsUOMt9Go"
      },
      "outputs": [],
      "source": [
        "df.describe()"
      ]
    },
    {
      "cell_type": "markdown",
      "metadata": {
        "id": "oso0ASZFt9Go"
      },
      "source": [
        "`.describe()` is another function you'll use in almost every Notebook you create. It lets us see summary statistics for all of the numerical data in a `DataFrame`. For instance, focus on the column named `math_score`. You can see the mean math_score is 83.452, the standard deviation from the mean is 12.36, etc. You can also see the minimum and maximum values in each column as well as the quartile values (25%, 50%, 75%). `.describe()` is useful when we start doing exploratory data analysis to get a high-level picture of our data.  \n",
        "\n",
        "You can also flip the table from columns to rows using `T`, the pandas transpose operator:"
      ]
    },
    {
      "cell_type": "code",
      "execution_count": null,
      "metadata": {
        "id": "-D8b808Gt9Gp"
      },
      "outputs": [],
      "source": [
        "df.describe().T"
      ]
    },
    {
      "cell_type": "markdown",
      "metadata": {
        "id": "HavSpYZkt9Gp"
      },
      "source": [
        "Sometimes we need to know the \"shape\" of the data, how many columns and rows are in the `DataFrame`."
      ]
    },
    {
      "cell_type": "code",
      "execution_count": null,
      "metadata": {
        "id": "d_Kp8EyIt9Gp"
      },
      "outputs": [],
      "source": [
        "df.shape"
      ]
    },
    {
      "cell_type": "markdown",
      "metadata": {
        "id": "oepXxWs0t9Gp"
      },
      "source": [
        "This tells us there are 2000 rows and 17 columns in the dataset. That seems like a lot...`.size()` can tell us just how many data points we have (number of rows multiplied by number of columns)."
      ]
    },
    {
      "cell_type": "code",
      "execution_count": null,
      "metadata": {
        "id": "nnIpsGK_t9Gp"
      },
      "outputs": [],
      "source": [
        "df.size"
      ]
    },
    {
      "cell_type": "markdown",
      "metadata": {
        "id": "Z_IQxiSit9Gp"
      },
      "source": [
        "We'll occasionally want to know how many unique values we have in a dataset. In a student dataset like this one, we should expect every `id` and `email` address to be unique. Everything else...well, let's use `.nunique` to find out."
      ]
    },
    {
      "cell_type": "code",
      "execution_count": null,
      "metadata": {
        "id": "KBW7Z4Aft9Gp"
      },
      "outputs": [],
      "source": [
        "df.nunique()"
      ]
    },
    {
      "cell_type": "markdown",
      "metadata": {
        "id": "ZKWgYqe3t9Gp"
      },
      "source": [
        "You should see some interesting things from this. 2000 unique email addresses...makes sense. Two unique genders...this suggests we may want to ask additional questions during data collection to capture additional gender identity. In general, `.nunique()` can help us learn about categorical features like gender, especially when we don't know how they were collected.  \n",
        "\n",
        "There are also times when we want to know the column names, especially when there are a lot of them. `.columns()` will give us what we need."
      ]
    },
    {
      "cell_type": "code",
      "execution_count": null,
      "metadata": {
        "id": "8eTacbbLt9Gp"
      },
      "outputs": [],
      "source": [
        "df.columns"
      ]
    },
    {
      "cell_type": "markdown",
      "metadata": {
        "id": "eoOah4Prt9Gq"
      },
      "source": [
        "That's helpful. We can make that a Python list, if needed, with the following call."
      ]
    },
    {
      "cell_type": "code",
      "execution_count": null,
      "metadata": {
        "id": "fzUiml7bt9Gq"
      },
      "outputs": [],
      "source": [
        "list(df.columns)"
      ]
    },
    {
      "cell_type": "markdown",
      "metadata": {
        "id": "coxgnx8tt9Gq"
      },
      "source": [
        "Finally, we may want to know the smallest or largest values in a column. `nsmallest` and `nlargest` will give us those values. Here are examples. First, let's find the five students with the highest math scores."
      ]
    },
    {
      "cell_type": "code",
      "execution_count": null,
      "metadata": {
        "id": "GP2_vKrQt9Gq"
      },
      "outputs": [],
      "source": [
        "# find the 5 students with the highest math scores\n",
        "df.nlargest(5, 'math_score')"
      ]
    },
    {
      "cell_type": "markdown",
      "metadata": {
        "id": "t3lTrpfCt9Gq"
      },
      "source": [
        "And then let's find the 7 students with the lowest geography scores."
      ]
    },
    {
      "cell_type": "code",
      "execution_count": null,
      "metadata": {
        "id": "NMUK_WJCt9Gq"
      },
      "outputs": [],
      "source": [
        "df.nsmallest(7, 'geography_score')"
      ]
    },
    {
      "cell_type": "markdown",
      "metadata": {
        "id": "UPHMrv2Vt9Gq"
      },
      "source": [
        "Notice we used the name of a column to get specific information. You'll do this a lot with any dataset. The most common way you'll see this is to include the column you want in brackets ([]) after the dataset name. For example, we can look at all the values in the `career_aspiration` column with the following command."
      ]
    },
    {
      "cell_type": "code",
      "execution_count": null,
      "metadata": {
        "id": "BG5lLTpYt9Gq"
      },
      "outputs": [],
      "source": [
        "df['career_aspiration']"
      ]
    },
    {
      "cell_type": "markdown",
      "metadata": {
        "id": "AMhRc25St9Gr"
      },
      "source": [
        "You can also see multiple columns by putting them in a Python list."
      ]
    },
    {
      "cell_type": "code",
      "execution_count": null,
      "metadata": {
        "id": "xwmroGVkt9Gr"
      },
      "outputs": [],
      "source": [
        "df[['career_aspiration', 'chemistry_score', 'math_score']]"
      ]
    },
    {
      "cell_type": "markdown",
      "metadata": {
        "id": "iUTpKeQ_t9Gr"
      },
      "source": [
        "You'll see and use this notation, `dataframe_name[dataframe_column]` again and again."
      ]
    },
    {
      "cell_type": "markdown",
      "metadata": {
        "id": "fjVBK58MvFb0"
      },
      "source": [
        "This is a good place to stop. Now return to the [tool assignment](https://docs.google.com/document/d/16imAtemYNYIN9DfgCvOc7bHflKjIAAGqrh9mAES59KA/edit#heading=h.dnvb8051io70) document for the final steps of the assignment.\n",
        "\n"
      ]
    },
    {
      "cell_type": "markdown",
      "metadata": {
        "id": "chj0WPSgt9Gr"
      },
      "source": []
    }
  ],
  "metadata": {
    "colab": {
      "provenance": [],
      "include_colab_link": true
    },
    "kernelspec": {
      "display_name": "Python 3 (ipykernel)",
      "language": "python",
      "name": "python3"
    },
    "language_info": {
      "codemirror_mode": {
        "name": "ipython",
        "version": 3
      },
      "file_extension": ".py",
      "mimetype": "text/x-python",
      "name": "python",
      "nbconvert_exporter": "python",
      "pygments_lexer": "ipython3",
      "version": "3.12.4"
    }
  },
  "nbformat": 4,
  "nbformat_minor": 0
}