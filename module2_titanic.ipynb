{
  "cells": [
    {
      "cell_type": "markdown",
      "metadata": {
        "id": "view-in-github",
        "colab_type": "text"
      },
      "source": [
        "<a href=\"https://colab.research.google.com/github/temperedangel/Github-and-Jupyter-setup/blob/main/module2_titanic.ipynb\" target=\"_parent\"><img src=\"https://colab.research.google.com/assets/colab-badge.svg\" alt=\"Open In Colab\"/></a>"
      ]
    },
    {
      "cell_type": "markdown",
      "metadata": {
        "id": "oS6c2A9oKzUG"
      },
      "source": [
        "# Introduction to Human-Centered Data Science\n",
        "\n"
      ]
    },
    {
      "cell_type": "markdown",
      "metadata": {
        "id": "uZ4fY--xK8L2"
      },
      "source": [
        "Welcome to our exploration of the Titanic dataset. We're going to walk through the data science lifecycle using this dataset as an example. With that in mind, the first thing we want to do is determine what question(s) we want to ask.  \n"
      ]
    },
    {
      "cell_type": "markdown",
      "metadata": {
        "id": "5DFNplVrMd3q"
      },
      "source": [
        "## What's the Question?\n",
        "\n",
        "\n"
      ]
    },
    {
      "cell_type": "markdown",
      "metadata": {
        "id": "sZaIih_fMty6"
      },
      "source": [
        "\n",
        "Everyone knows that the Titanic sank after running into an iceberg. Many people lost their lives in the accident, but, spectacularly, many people were able to survive the accident.  \n",
        "\n",
        "That seems like a good place to start, some simple **descriptive** questions to understand more about the event. For example, we can ask:\n",
        "1. How many people were on the Titanic?\n",
        "2. How many survived the accident?\n",
        "3. How many fatalities were there?\n",
        "\n",
        "We can also ask an **exploratory** question:\n",
        "1. Did more men, women, or children die/survive in the accident?\n",
        "\n",
        "And we could ask a **predictive** question: Can we predict whether a passenger would have lived or survived given what we know about them? We might want to know this if we're a safety inspector working for a modern cruise company. Can we learn something about the survival rates on the Titanic that can generalize to new ocean liners?\n",
        "\n",
        "There are other possibilities, and you may have come up with different ones in your earlier reflections. For now, let's keep these and start learning how to answer them with data.\n",
        "\n",
        "\n"
      ]
    },
    {
      "cell_type": "code",
      "execution_count": null,
      "metadata": {
        "id": "EUXvbt9-5C8R"
      },
      "outputs": [],
      "source": []
    },
    {
      "cell_type": "markdown",
      "metadata": {
        "id": "AllC4wAUNLCA"
      },
      "source": [
        "## Collect Data"
      ]
    },
    {
      "cell_type": "markdown",
      "metadata": {
        "id": "UjB0ccHWKzUK"
      },
      "source": [
        "Before we can work with data, we need to get our notebook ready by loading some essential libraries. If you're new to programing, you can think of a library as a toolbox of useful functions that you can borrow and use in your work. The beauty of libraries is that someone else has done the work of creating the tools: You get to use them without needing to build them yourself.\n",
        "\n",
        "In this example, we'll load one of the most important libraries in data science, the Python Data Analysis Library, or `pandas`. You can guess from the name that `pandas` provides tools for data analysis and manipulation. `pandas` is a little long time to type repeatiedly, so you'll often see people import the library and then refer to it by the shorter `pd`."
      ]
    },
    {
      "cell_type": "code",
      "execution_count": 1,
      "metadata": {
        "id": "f6Sco1GvKzUL"
      },
      "outputs": [],
      "source": [
        "import pandas as pd"
      ]
    },
    {
      "cell_type": "markdown",
      "metadata": {
        "id": "OIWoWggFKzUM"
      },
      "source": [
        "Some of the many important tools in `pandas` allow us to read and write data files. We can read pdf, Excel, text...all sorts of files. For now, we want to read data from a comma-separated values, or CSV, file. `pandas` has a simple function named `read_csv` to read from a CSV file. We'll use it to read in a file of data related to the Titanic.\n",
        "\n",
        "`pd.read_csv()` means \"call the `read_csv()` function that sits in the `pd` (`pandas`) library. We're going to create a variable called `titanic_df` and set its value to our data table. We'll name the variable `titanic_df` to note that it points to a pandas dataframe (df) containing Titanic data."
      ]
    },
    {
      "cell_type": "code",
      "execution_count": 2,
      "metadata": {
        "id": "0jWs9dCHKzUM"
      },
      "outputs": [],
      "source": [
        "# The giant URL below points to a data file named \"titanic3.csv\"\n",
        "titanic_df_URL = \"https://raw.githubusercontent.com/bsmith-classroom/datasets/main/titanic3.csv\"\n",
        "\n",
        "titanic_df = pd.read_csv(titanic_df_URL)"
      ]
    },
    {
      "cell_type": "markdown",
      "metadata": {
        "id": "1wpTzCpGKzUN"
      },
      "source": [
        "Now that we have the data, we should look to see what it looks like. `pandas` has a function named `head` that shows the first few rows of data."
      ]
    },
    {
      "cell_type": "code",
      "execution_count": 3,
      "metadata": {
        "id": "2-MPIK-pKzUN",
        "colab": {
          "base_uri": "https://localhost:8080/"
        },
        "outputId": "6e65688c-8a64-4f66-d76a-e2da6aca3c4e"
      },
      "outputs": [
        {
          "output_type": "stream",
          "name": "stdout",
          "text": [
            "   pclass  survived                                             name     sex  \\\n",
            "0       1         1                    Allen, Miss. Elisabeth Walton  female   \n",
            "1       1         1                   Allison, Master. Hudson Trevor    male   \n",
            "2       1         0                     Allison, Miss. Helen Loraine  female   \n",
            "3       1         0             Allison, Mr. Hudson Joshua Creighton    male   \n",
            "4       1         0  Allison, Mrs. Hudson J C (Bessie Waldo Daniels)  female   \n",
            "\n",
            "       age  sibsp  parch  ticket      fare    cabin embarked boat   body  \\\n",
            "0  29.0000      0      0   24160  211.3375       B5        S    2    NaN   \n",
            "1   0.9167      1      2  113781  151.5500  C22 C26        S   11    NaN   \n",
            "2   2.0000      1      2  113781  151.5500  C22 C26        S  NaN    NaN   \n",
            "3  30.0000      1      2  113781  151.5500  C22 C26        S  NaN  135.0   \n",
            "4  25.0000      1      2  113781  151.5500  C22 C26        S  NaN    NaN   \n",
            "\n",
            "                         home.dest  \n",
            "0                     St Louis, MO  \n",
            "1  Montreal, PQ / Chesterville, ON  \n",
            "2  Montreal, PQ / Chesterville, ON  \n",
            "3  Montreal, PQ / Chesterville, ON  \n",
            "4  Montreal, PQ / Chesterville, ON  \n"
          ]
        }
      ],
      "source": [
        "print(titanic_df.head())"
      ]
    },
    {
      "cell_type": "markdown",
      "metadata": {
        "id": "T4Szr54z5C8T"
      },
      "source": [
        "The `info` function displays useful information about the dataset. We can see the data types for each column, for example, the `age` data are currently `float64` numbers.   \n",
        "\n"
      ]
    },
    {
      "cell_type": "code",
      "execution_count": 4,
      "metadata": {
        "id": "uaiS4PA0tZGe",
        "colab": {
          "base_uri": "https://localhost:8080/"
        },
        "outputId": "07743eee-7b30-4f6d-987a-08139ad8a1eb"
      },
      "outputs": [
        {
          "output_type": "stream",
          "name": "stdout",
          "text": [
            "<class 'pandas.core.frame.DataFrame'>\n",
            "RangeIndex: 1309 entries, 0 to 1308\n",
            "Data columns (total 14 columns):\n",
            " #   Column     Non-Null Count  Dtype  \n",
            "---  ------     --------------  -----  \n",
            " 0   pclass     1309 non-null   int64  \n",
            " 1   survived   1309 non-null   int64  \n",
            " 2   name       1309 non-null   object \n",
            " 3   sex        1309 non-null   object \n",
            " 4   age        1046 non-null   float64\n",
            " 5   sibsp      1309 non-null   int64  \n",
            " 6   parch      1309 non-null   int64  \n",
            " 7   ticket     1309 non-null   object \n",
            " 8   fare       1308 non-null   float64\n",
            " 9   cabin      295 non-null    object \n",
            " 10  embarked   1307 non-null   object \n",
            " 11  boat       486 non-null    object \n",
            " 12  body       121 non-null    float64\n",
            " 13  home.dest  745 non-null    object \n",
            "dtypes: float64(3), int64(4), object(7)\n",
            "memory usage: 143.3+ KB\n",
            "None\n"
          ]
        }
      ],
      "source": [
        "print(titanic_df.info())"
      ]
    },
    {
      "cell_type": "markdown",
      "metadata": {
        "id": "nPfi-qq75C8U"
      },
      "source": [
        "We can also see the number of **non-null** entries in each column. Null, or **missing**, values can affect our data analyses later. We'll try to avoid them for them moment. But you can imagine how the missing values complicate things later. As an example, look at the `age` column above: It only has 1046 non-null values out of a possible 1309. That means we don't have age information for every passenger. We'll return to this problem later. First, let's look at the meanings of each column."
      ]
    },
    {
      "cell_type": "markdown",
      "metadata": {
        "id": "I1zbQAalKzUN"
      },
      "source": [
        "### The Data Dictionary\n",
        "We see there are fourteen columns with names `pclass, survived, name, sex, age, sibsp, parch, ticket, fare, cabin, embarked, boat, body, and home.dest`. We need to know a little more about each column name. That's what *data dictionaries* are for: They define the contents of each column. In this case, the data dictionary provides this information:\n",
        "\n",
        "| Column Name   | Description                                               |\n",
        "|---------------|-----------------------------------------------------------|\n",
        "| pclass   | Passenger Class (1 = 1st; 2 = 2nd; 3 = 3rd)         \n",
        "| survived | Did the passenger survive? (0 = No; 1 = Yes)  \n",
        "| name  | Name  \n",
        "sex | Passenger gender  \n",
        "age | Age (in years; fractional if age less than one (1). If the age is estimated, it is in the form xx.5)  \n",
        "sibsp | Number of Siblings/Spouses Aboard  \n",
        "parch | Number of Parents/Children Aboard   \n",
        "ticket | Ticket Number  \n",
        "fare | Passenger Fare (pre-1970 British pound)  \n",
        "cabin | Cabin number  \n",
        "embarked | Port of Embarkation (C = Cherbourg; Q = Queenstown; S = Southampton)  \n",
        "boat | Lifeboat ID if the passenger survived   \n",
        "body | Body number if the passenger didn't survive and the body was recovered   \n",
        "home.dest | the home of the passenger, occasionally followed by their ultimate destination\n"
      ]
    },
    {
      "cell_type": "markdown",
      "metadata": {
        "id": "yeRr-6uW5C8U"
      },
      "source": [
        "Earlier, we used `info` and saw the number of non-null values in each column. We can also see the number of null values using the pandas function `isnull`."
      ]
    },
    {
      "cell_type": "code",
      "execution_count": 5,
      "metadata": {
        "id": "za26SSsEKzUO",
        "colab": {
          "base_uri": "https://localhost:8080/"
        },
        "outputId": "5c7c9480-59d7-4fb4-cea5-197d0f7e5b59"
      },
      "outputs": [
        {
          "output_type": "stream",
          "name": "stdout",
          "text": [
            "pclass          0\n",
            "survived        0\n",
            "name            0\n",
            "sex             0\n",
            "age           263\n",
            "sibsp           0\n",
            "parch           0\n",
            "ticket          0\n",
            "fare            1\n",
            "cabin        1014\n",
            "embarked        2\n",
            "boat          823\n",
            "body         1188\n",
            "home.dest     564\n",
            "dtype: int64\n"
          ]
        }
      ],
      "source": [
        "print(titanic_df.isnull().sum())"
      ]
    },
    {
      "cell_type": "markdown",
      "metadata": {
        "id": "_fuYjtJLmJIW"
      },
      "source": [
        "`isnull` returns `True` if a data value is missing/undefined. We modify if with `sum()` to get a count of all the missing values. We can see that there are 263 missing ages and 1014 missing cabin values.\n",
        "\n",
        "In the dataset, this undefined value is represented by `NaN`, which stands for Not a Number. Take a look:"
      ]
    },
    {
      "cell_type": "code",
      "execution_count": 6,
      "metadata": {
        "id": "_5mRhzpaj_4S",
        "colab": {
          "base_uri": "https://localhost:8080/"
        },
        "outputId": "7a74d559-2f65-4af8-ca48-039115bd1767"
      },
      "outputs": [
        {
          "output_type": "stream",
          "name": "stdout",
          "text": [
            "pclass                         3\n",
            "survived                       1\n",
            "name         Jermyn, Miss. Annie\n",
            "sex                       female\n",
            "age                          NaN\n",
            "sibsp                          0\n",
            "parch                          0\n",
            "ticket                     14313\n",
            "fare                        7.75\n",
            "cabin                        NaN\n",
            "embarked                       Q\n",
            "boat                           D\n",
            "body                         NaN\n",
            "home.dest                    NaN\n",
            "Name: 886, dtype: object\n"
          ]
        }
      ],
      "source": [
        "print(titanic_df.iloc[886])"
      ]
    },
    {
      "cell_type": "markdown",
      "metadata": {
        "id": "dBZ6nKz9nLxG"
      },
      "source": [
        "The command `iloc` stands for \"integer location.\" Calling `iloc[886]` will return the passenger at the 886th row of data. Ok, it's really the *887th* row because we count rows from zero instead of one.\n",
        "    \n",
        "Look at the entries for `age` and `cabin`, and you'll see the `NaN` symbol. That means we don't know the age and cabin number for this passenger. This may or may not be important; we'll have to consider if these numbers are important given the questions we're asking.  "
      ]
    },
    {
      "cell_type": "markdown",
      "metadata": {
        "id": "ZbIfNfy4mCcL"
      },
      "source": [
        "## Understand the Data"
      ]
    },
    {
      "cell_type": "markdown",
      "metadata": {
        "id": "07TR_0iNqti6"
      },
      "source": [
        "Let's do some preliminary steps to understand more about our data. We learned earlier that each row in out dataset has 12 columns of data. We can do some simiple summarization to discover how these twelve columns look over the entire dataset.  \n",
        "  \n",
        "The function `describe` will give us some simple summary statistics. It's always a good place to start with any dataset."
      ]
    },
    {
      "cell_type": "code",
      "execution_count": 7,
      "metadata": {
        "id": "Xucxx7w8qti6",
        "colab": {
          "base_uri": "https://localhost:8080/",
          "height": 300
        },
        "outputId": "2c477488-ca59-4b48-8ffd-6a509752685a"
      },
      "outputs": [
        {
          "output_type": "execute_result",
          "data": {
            "text/plain": [
              "            pclass     survived          age        sibsp        parch  \\\n",
              "count  1309.000000  1309.000000  1046.000000  1309.000000  1309.000000   \n",
              "mean      2.294882     0.381971    29.881135     0.498854     0.385027   \n",
              "std       0.837836     0.486055    14.413500     1.041658     0.865560   \n",
              "min       1.000000     0.000000     0.166700     0.000000     0.000000   \n",
              "25%       2.000000     0.000000    21.000000     0.000000     0.000000   \n",
              "50%       3.000000     0.000000    28.000000     0.000000     0.000000   \n",
              "75%       3.000000     1.000000    39.000000     1.000000     0.000000   \n",
              "max       3.000000     1.000000    80.000000     8.000000     9.000000   \n",
              "\n",
              "              fare        body  \n",
              "count  1308.000000  121.000000  \n",
              "mean     33.295479  160.809917  \n",
              "std      51.758668   97.696922  \n",
              "min       0.000000    1.000000  \n",
              "25%       7.895800   72.000000  \n",
              "50%      14.454200  155.000000  \n",
              "75%      31.275000  256.000000  \n",
              "max     512.329200  328.000000  "
            ],
            "text/html": [
              "\n",
              "  <div id=\"df-c24ce0a8-c82f-450c-9e10-54cc867ad941\" class=\"colab-df-container\">\n",
              "    <div>\n",
              "<style scoped>\n",
              "    .dataframe tbody tr th:only-of-type {\n",
              "        vertical-align: middle;\n",
              "    }\n",
              "\n",
              "    .dataframe tbody tr th {\n",
              "        vertical-align: top;\n",
              "    }\n",
              "\n",
              "    .dataframe thead th {\n",
              "        text-align: right;\n",
              "    }\n",
              "</style>\n",
              "<table border=\"1\" class=\"dataframe\">\n",
              "  <thead>\n",
              "    <tr style=\"text-align: right;\">\n",
              "      <th></th>\n",
              "      <th>pclass</th>\n",
              "      <th>survived</th>\n",
              "      <th>age</th>\n",
              "      <th>sibsp</th>\n",
              "      <th>parch</th>\n",
              "      <th>fare</th>\n",
              "      <th>body</th>\n",
              "    </tr>\n",
              "  </thead>\n",
              "  <tbody>\n",
              "    <tr>\n",
              "      <th>count</th>\n",
              "      <td>1309.000000</td>\n",
              "      <td>1309.000000</td>\n",
              "      <td>1046.000000</td>\n",
              "      <td>1309.000000</td>\n",
              "      <td>1309.000000</td>\n",
              "      <td>1308.000000</td>\n",
              "      <td>121.000000</td>\n",
              "    </tr>\n",
              "    <tr>\n",
              "      <th>mean</th>\n",
              "      <td>2.294882</td>\n",
              "      <td>0.381971</td>\n",
              "      <td>29.881135</td>\n",
              "      <td>0.498854</td>\n",
              "      <td>0.385027</td>\n",
              "      <td>33.295479</td>\n",
              "      <td>160.809917</td>\n",
              "    </tr>\n",
              "    <tr>\n",
              "      <th>std</th>\n",
              "      <td>0.837836</td>\n",
              "      <td>0.486055</td>\n",
              "      <td>14.413500</td>\n",
              "      <td>1.041658</td>\n",
              "      <td>0.865560</td>\n",
              "      <td>51.758668</td>\n",
              "      <td>97.696922</td>\n",
              "    </tr>\n",
              "    <tr>\n",
              "      <th>min</th>\n",
              "      <td>1.000000</td>\n",
              "      <td>0.000000</td>\n",
              "      <td>0.166700</td>\n",
              "      <td>0.000000</td>\n",
              "      <td>0.000000</td>\n",
              "      <td>0.000000</td>\n",
              "      <td>1.000000</td>\n",
              "    </tr>\n",
              "    <tr>\n",
              "      <th>25%</th>\n",
              "      <td>2.000000</td>\n",
              "      <td>0.000000</td>\n",
              "      <td>21.000000</td>\n",
              "      <td>0.000000</td>\n",
              "      <td>0.000000</td>\n",
              "      <td>7.895800</td>\n",
              "      <td>72.000000</td>\n",
              "    </tr>\n",
              "    <tr>\n",
              "      <th>50%</th>\n",
              "      <td>3.000000</td>\n",
              "      <td>0.000000</td>\n",
              "      <td>28.000000</td>\n",
              "      <td>0.000000</td>\n",
              "      <td>0.000000</td>\n",
              "      <td>14.454200</td>\n",
              "      <td>155.000000</td>\n",
              "    </tr>\n",
              "    <tr>\n",
              "      <th>75%</th>\n",
              "      <td>3.000000</td>\n",
              "      <td>1.000000</td>\n",
              "      <td>39.000000</td>\n",
              "      <td>1.000000</td>\n",
              "      <td>0.000000</td>\n",
              "      <td>31.275000</td>\n",
              "      <td>256.000000</td>\n",
              "    </tr>\n",
              "    <tr>\n",
              "      <th>max</th>\n",
              "      <td>3.000000</td>\n",
              "      <td>1.000000</td>\n",
              "      <td>80.000000</td>\n",
              "      <td>8.000000</td>\n",
              "      <td>9.000000</td>\n",
              "      <td>512.329200</td>\n",
              "      <td>328.000000</td>\n",
              "    </tr>\n",
              "  </tbody>\n",
              "</table>\n",
              "</div>\n",
              "    <div class=\"colab-df-buttons\">\n",
              "\n",
              "  <div class=\"colab-df-container\">\n",
              "    <button class=\"colab-df-convert\" onclick=\"convertToInteractive('df-c24ce0a8-c82f-450c-9e10-54cc867ad941')\"\n",
              "            title=\"Convert this dataframe to an interactive table.\"\n",
              "            style=\"display:none;\">\n",
              "\n",
              "  <svg xmlns=\"http://www.w3.org/2000/svg\" height=\"24px\" viewBox=\"0 -960 960 960\">\n",
              "    <path d=\"M120-120v-720h720v720H120Zm60-500h600v-160H180v160Zm220 220h160v-160H400v160Zm0 220h160v-160H400v160ZM180-400h160v-160H180v160Zm440 0h160v-160H620v160ZM180-180h160v-160H180v160Zm440 0h160v-160H620v160Z\"/>\n",
              "  </svg>\n",
              "    </button>\n",
              "\n",
              "  <style>\n",
              "    .colab-df-container {\n",
              "      display:flex;\n",
              "      gap: 12px;\n",
              "    }\n",
              "\n",
              "    .colab-df-convert {\n",
              "      background-color: #E8F0FE;\n",
              "      border: none;\n",
              "      border-radius: 50%;\n",
              "      cursor: pointer;\n",
              "      display: none;\n",
              "      fill: #1967D2;\n",
              "      height: 32px;\n",
              "      padding: 0 0 0 0;\n",
              "      width: 32px;\n",
              "    }\n",
              "\n",
              "    .colab-df-convert:hover {\n",
              "      background-color: #E2EBFA;\n",
              "      box-shadow: 0px 1px 2px rgba(60, 64, 67, 0.3), 0px 1px 3px 1px rgba(60, 64, 67, 0.15);\n",
              "      fill: #174EA6;\n",
              "    }\n",
              "\n",
              "    .colab-df-buttons div {\n",
              "      margin-bottom: 4px;\n",
              "    }\n",
              "\n",
              "    [theme=dark] .colab-df-convert {\n",
              "      background-color: #3B4455;\n",
              "      fill: #D2E3FC;\n",
              "    }\n",
              "\n",
              "    [theme=dark] .colab-df-convert:hover {\n",
              "      background-color: #434B5C;\n",
              "      box-shadow: 0px 1px 3px 1px rgba(0, 0, 0, 0.15);\n",
              "      filter: drop-shadow(0px 1px 2px rgba(0, 0, 0, 0.3));\n",
              "      fill: #FFFFFF;\n",
              "    }\n",
              "  </style>\n",
              "\n",
              "    <script>\n",
              "      const buttonEl =\n",
              "        document.querySelector('#df-c24ce0a8-c82f-450c-9e10-54cc867ad941 button.colab-df-convert');\n",
              "      buttonEl.style.display =\n",
              "        google.colab.kernel.accessAllowed ? 'block' : 'none';\n",
              "\n",
              "      async function convertToInteractive(key) {\n",
              "        const element = document.querySelector('#df-c24ce0a8-c82f-450c-9e10-54cc867ad941');\n",
              "        const dataTable =\n",
              "          await google.colab.kernel.invokeFunction('convertToInteractive',\n",
              "                                                    [key], {});\n",
              "        if (!dataTable) return;\n",
              "\n",
              "        const docLinkHtml = 'Like what you see? Visit the ' +\n",
              "          '<a target=\"_blank\" href=https://colab.research.google.com/notebooks/data_table.ipynb>data table notebook</a>'\n",
              "          + ' to learn more about interactive tables.';\n",
              "        element.innerHTML = '';\n",
              "        dataTable['output_type'] = 'display_data';\n",
              "        await google.colab.output.renderOutput(dataTable, element);\n",
              "        const docLink = document.createElement('div');\n",
              "        docLink.innerHTML = docLinkHtml;\n",
              "        element.appendChild(docLink);\n",
              "      }\n",
              "    </script>\n",
              "  </div>\n",
              "\n",
              "\n",
              "    <div id=\"df-bfabf377-e157-406e-abfc-afeced8d6aee\">\n",
              "      <button class=\"colab-df-quickchart\" onclick=\"quickchart('df-bfabf377-e157-406e-abfc-afeced8d6aee')\"\n",
              "                title=\"Suggest charts\"\n",
              "                style=\"display:none;\">\n",
              "\n",
              "<svg xmlns=\"http://www.w3.org/2000/svg\" height=\"24px\"viewBox=\"0 0 24 24\"\n",
              "     width=\"24px\">\n",
              "    <g>\n",
              "        <path d=\"M19 3H5c-1.1 0-2 .9-2 2v14c0 1.1.9 2 2 2h14c1.1 0 2-.9 2-2V5c0-1.1-.9-2-2-2zM9 17H7v-7h2v7zm4 0h-2V7h2v10zm4 0h-2v-4h2v4z\"/>\n",
              "    </g>\n",
              "</svg>\n",
              "      </button>\n",
              "\n",
              "<style>\n",
              "  .colab-df-quickchart {\n",
              "      --bg-color: #E8F0FE;\n",
              "      --fill-color: #1967D2;\n",
              "      --hover-bg-color: #E2EBFA;\n",
              "      --hover-fill-color: #174EA6;\n",
              "      --disabled-fill-color: #AAA;\n",
              "      --disabled-bg-color: #DDD;\n",
              "  }\n",
              "\n",
              "  [theme=dark] .colab-df-quickchart {\n",
              "      --bg-color: #3B4455;\n",
              "      --fill-color: #D2E3FC;\n",
              "      --hover-bg-color: #434B5C;\n",
              "      --hover-fill-color: #FFFFFF;\n",
              "      --disabled-bg-color: #3B4455;\n",
              "      --disabled-fill-color: #666;\n",
              "  }\n",
              "\n",
              "  .colab-df-quickchart {\n",
              "    background-color: var(--bg-color);\n",
              "    border: none;\n",
              "    border-radius: 50%;\n",
              "    cursor: pointer;\n",
              "    display: none;\n",
              "    fill: var(--fill-color);\n",
              "    height: 32px;\n",
              "    padding: 0;\n",
              "    width: 32px;\n",
              "  }\n",
              "\n",
              "  .colab-df-quickchart:hover {\n",
              "    background-color: var(--hover-bg-color);\n",
              "    box-shadow: 0 1px 2px rgba(60, 64, 67, 0.3), 0 1px 3px 1px rgba(60, 64, 67, 0.15);\n",
              "    fill: var(--button-hover-fill-color);\n",
              "  }\n",
              "\n",
              "  .colab-df-quickchart-complete:disabled,\n",
              "  .colab-df-quickchart-complete:disabled:hover {\n",
              "    background-color: var(--disabled-bg-color);\n",
              "    fill: var(--disabled-fill-color);\n",
              "    box-shadow: none;\n",
              "  }\n",
              "\n",
              "  .colab-df-spinner {\n",
              "    border: 2px solid var(--fill-color);\n",
              "    border-color: transparent;\n",
              "    border-bottom-color: var(--fill-color);\n",
              "    animation:\n",
              "      spin 1s steps(1) infinite;\n",
              "  }\n",
              "\n",
              "  @keyframes spin {\n",
              "    0% {\n",
              "      border-color: transparent;\n",
              "      border-bottom-color: var(--fill-color);\n",
              "      border-left-color: var(--fill-color);\n",
              "    }\n",
              "    20% {\n",
              "      border-color: transparent;\n",
              "      border-left-color: var(--fill-color);\n",
              "      border-top-color: var(--fill-color);\n",
              "    }\n",
              "    30% {\n",
              "      border-color: transparent;\n",
              "      border-left-color: var(--fill-color);\n",
              "      border-top-color: var(--fill-color);\n",
              "      border-right-color: var(--fill-color);\n",
              "    }\n",
              "    40% {\n",
              "      border-color: transparent;\n",
              "      border-right-color: var(--fill-color);\n",
              "      border-top-color: var(--fill-color);\n",
              "    }\n",
              "    60% {\n",
              "      border-color: transparent;\n",
              "      border-right-color: var(--fill-color);\n",
              "    }\n",
              "    80% {\n",
              "      border-color: transparent;\n",
              "      border-right-color: var(--fill-color);\n",
              "      border-bottom-color: var(--fill-color);\n",
              "    }\n",
              "    90% {\n",
              "      border-color: transparent;\n",
              "      border-bottom-color: var(--fill-color);\n",
              "    }\n",
              "  }\n",
              "</style>\n",
              "\n",
              "      <script>\n",
              "        async function quickchart(key) {\n",
              "          const quickchartButtonEl =\n",
              "            document.querySelector('#' + key + ' button');\n",
              "          quickchartButtonEl.disabled = true;  // To prevent multiple clicks.\n",
              "          quickchartButtonEl.classList.add('colab-df-spinner');\n",
              "          try {\n",
              "            const charts = await google.colab.kernel.invokeFunction(\n",
              "                'suggestCharts', [key], {});\n",
              "          } catch (error) {\n",
              "            console.error('Error during call to suggestCharts:', error);\n",
              "          }\n",
              "          quickchartButtonEl.classList.remove('colab-df-spinner');\n",
              "          quickchartButtonEl.classList.add('colab-df-quickchart-complete');\n",
              "        }\n",
              "        (() => {\n",
              "          let quickchartButtonEl =\n",
              "            document.querySelector('#df-bfabf377-e157-406e-abfc-afeced8d6aee button');\n",
              "          quickchartButtonEl.style.display =\n",
              "            google.colab.kernel.accessAllowed ? 'block' : 'none';\n",
              "        })();\n",
              "      </script>\n",
              "    </div>\n",
              "\n",
              "    </div>\n",
              "  </div>\n"
            ],
            "application/vnd.google.colaboratory.intrinsic+json": {
              "type": "dataframe",
              "summary": "{\n  \"name\": \"titanic_df\",\n  \"rows\": 8,\n  \"fields\": [\n    {\n      \"column\": \"pclass\",\n      \"properties\": {\n        \"dtype\": \"number\",\n        \"std\": 462.03788291201505,\n        \"min\": 0.837836018970131,\n        \"max\": 1309.0,\n        \"num_unique_values\": 6,\n        \"samples\": [\n          1309.0,\n          2.294881588999236,\n          3.0\n        ],\n        \"semantic_type\": \"\",\n        \"description\": \"\"\n      }\n    },\n    {\n      \"column\": \"survived\",\n      \"properties\": {\n        \"dtype\": \"number\",\n        \"std\": 462.6567174482674,\n        \"min\": 0.0,\n        \"max\": 1309.0,\n        \"num_unique_values\": 5,\n        \"samples\": [\n          0.3819709702062643,\n          1.0,\n          0.48605517086648004\n        ],\n        \"semantic_type\": \"\",\n        \"description\": \"\"\n      }\n    },\n    {\n      \"column\": \"age\",\n      \"properties\": {\n        \"dtype\": \"number\",\n        \"std\": 359.84064781685913,\n        \"min\": 0.1667,\n        \"max\": 1046.0,\n        \"num_unique_values\": 8,\n        \"samples\": [\n          29.8811345124283,\n          28.0,\n          1046.0\n        ],\n        \"semantic_type\": \"\",\n        \"description\": \"\"\n      }\n    },\n    {\n      \"column\": \"sibsp\",\n      \"properties\": {\n        \"dtype\": \"number\",\n        \"std\": 462.27680922007715,\n        \"min\": 0.0,\n        \"max\": 1309.0,\n        \"num_unique_values\": 6,\n        \"samples\": [\n          1309.0,\n          0.4988540870893812,\n          8.0\n        ],\n        \"semantic_type\": \"\",\n        \"description\": \"\"\n      }\n    },\n    {\n      \"column\": \"parch\",\n      \"properties\": {\n        \"dtype\": \"number\",\n        \"std\": 462.29399018424664,\n        \"min\": 0.0,\n        \"max\": 1309.0,\n        \"num_unique_values\": 5,\n        \"samples\": [\n          0.3850267379679144,\n          9.0,\n          0.8655602753495126\n        ],\n        \"semantic_type\": \"\",\n        \"description\": \"\"\n      }\n    },\n    {\n      \"column\": \"fare\",\n      \"properties\": {\n        \"dtype\": \"number\",\n        \"std\": 462.70446257758823,\n        \"min\": 0.0,\n        \"max\": 1308.0,\n        \"num_unique_values\": 8,\n        \"samples\": [\n          33.29547928134557,\n          14.4542,\n          1308.0\n        ],\n        \"semantic_type\": \"\",\n        \"description\": \"\"\n      }\n    },\n    {\n      \"column\": \"body\",\n      \"properties\": {\n        \"dtype\": \"number\",\n        \"std\": 103.45078164428638,\n        \"min\": 1.0,\n        \"max\": 328.0,\n        \"num_unique_values\": 8,\n        \"samples\": [\n          160.8099173553719,\n          155.0,\n          121.0\n        ],\n        \"semantic_type\": \"\",\n        \"description\": \"\"\n      }\n    }\n  ]\n}"
            }
          },
          "metadata": {},
          "execution_count": 7
        }
      ],
      "source": [
        "titanic_df.describe()"
      ]
    },
    {
      "cell_type": "markdown",
      "metadata": {
        "id": "VMYrw9hEqti7",
        "outputId": "9da567fb-dc4a-47a2-bfcb-3822debec5eb"
      },
      "source": [
        "We can see a few useful things in this description.\n",
        "1) The first row of the table is labeled `count`, and it tells us how many entries are in each of the columns. In our `titanic_df` dataset, there are 1309 records...or passengers. All of the columns except 1 `age` show 1309 as the `count`.  \n",
        "2) Notice that the `age ` column has 1046 listed for its `count`. That's due to missing data.\n",
        "3) The second row of the table is labeled `mean`: Here's where we'll find the mean or average of each data column. For example, you can see the mean `age` is 29.881135. We'll might want to round that to 30 if we ever need to report it.\n",
        "4) Remember from our data descriptions above that `survived` can take one of two values: 0 if the passenger didn't survive, 1 if they did. The `mean` for this column is 0.381971: 38% of the 1309 passengers in the table survived.\n",
        "5) The passenger class, `pclass`, is another *categorical* variable: It can be first, second, or third (1, 2, or 3). `describe` computes a mean for this column, but it doesn't make sense because the values are categorical. The average here doesn't mean that someone sat in a 2.294882 class.\n",
        "\n",
        "What can we do to get a better understanding of `pclass` and similar categorical variables? `pandas` has a function called `value_counts` that shows how many values are associated with each unique category in a column. For example, it might be useful to see how many passengers were in each passenger class."
      ]
    },
    {
      "cell_type": "code",
      "execution_count": 8,
      "metadata": {
        "id": "VRa9yj2QgMjp",
        "colab": {
          "base_uri": "https://localhost:8080/",
          "height": 210
        },
        "outputId": "0833b813-951e-48e1-94f1-e9544bd19292"
      },
      "outputs": [
        {
          "output_type": "execute_result",
          "data": {
            "text/plain": [
              "pclass\n",
              "3    709\n",
              "1    323\n",
              "2    277\n",
              "Name: count, dtype: int64"
            ],
            "text/html": [
              "<div>\n",
              "<style scoped>\n",
              "    .dataframe tbody tr th:only-of-type {\n",
              "        vertical-align: middle;\n",
              "    }\n",
              "\n",
              "    .dataframe tbody tr th {\n",
              "        vertical-align: top;\n",
              "    }\n",
              "\n",
              "    .dataframe thead th {\n",
              "        text-align: right;\n",
              "    }\n",
              "</style>\n",
              "<table border=\"1\" class=\"dataframe\">\n",
              "  <thead>\n",
              "    <tr style=\"text-align: right;\">\n",
              "      <th></th>\n",
              "      <th>count</th>\n",
              "    </tr>\n",
              "    <tr>\n",
              "      <th>pclass</th>\n",
              "      <th></th>\n",
              "    </tr>\n",
              "  </thead>\n",
              "  <tbody>\n",
              "    <tr>\n",
              "      <th>3</th>\n",
              "      <td>709</td>\n",
              "    </tr>\n",
              "    <tr>\n",
              "      <th>1</th>\n",
              "      <td>323</td>\n",
              "    </tr>\n",
              "    <tr>\n",
              "      <th>2</th>\n",
              "      <td>277</td>\n",
              "    </tr>\n",
              "  </tbody>\n",
              "</table>\n",
              "</div><br><label><b>dtype:</b> int64</label>"
            ]
          },
          "metadata": {},
          "execution_count": 8
        }
      ],
      "source": [
        "titanic_df['pclass'].value_counts()"
      ]
    },
    {
      "cell_type": "markdown",
      "metadata": {
        "id": "YwpeB2Q5gMjp"
      },
      "source": [
        "You can see that 323 passengers were in first class, 277 in second, and 709 sailed in third class. We can also find out how many passengers survived using `value_counts`. To do this, you need to specify a column in `titanic_df` that corresponds to the number of survivors."
      ]
    },
    {
      "cell_type": "code",
      "execution_count": 22,
      "metadata": {
        "id": "a8NyburvgMjp",
        "colab": {
          "base_uri": "https://localhost:8080/"
        },
        "outputId": "ec9e89b8-219f-4057-90e7-a6cb20650dc6"
      },
      "outputs": [
        {
          "output_type": "stream",
          "name": "stdout",
          "text": [
            "survived\n",
            "0    809\n",
            "1    500\n",
            "Name: count, dtype: int64\n"
          ]
        }
      ],
      "source": [
        "# Use value_counts() to count the number of survivors.\n",
        "survived_counts = titanic_df['survived'].value_counts()\n",
        "print(survived_counts)"
      ]
    },
    {
      "cell_type": "markdown",
      "metadata": {
        "id": "l6rgDbLagMjq"
      },
      "source": [
        "You should see the numbers for those who survived and those who didn't.\n",
        "Another useful trick is to \"normalize\" the numbers into percentages. We do that by setting the `normalize` parameter to True when we call `value_counts()`."
      ]
    },
    {
      "cell_type": "code",
      "execution_count": 23,
      "metadata": {
        "id": "LFbVey2hgMjq",
        "colab": {
          "base_uri": "https://localhost:8080/"
        },
        "outputId": "ffdd6f41-af17-4c57-a414-2e52c38449fb"
      },
      "outputs": [
        {
          "output_type": "stream",
          "name": "stdout",
          "text": [
            "survived\n",
            "0    0.618029\n",
            "1    0.381971\n",
            "Name: proportion, dtype: float64\n"
          ]
        }
      ],
      "source": [
        "# Use value_counts(normalize=True) to get the percentages of survivors.\n",
        "percentage_survived_counts = titanic_df['survived'].value_counts(normalize=True)\n",
        "print(percentage_survived_counts)"
      ]
    },
    {
      "cell_type": "markdown",
      "metadata": {
        "id": "ZmpMMwd1dxgG"
      },
      "source": [
        "### <span style=\"color: red;\">Question</span>\n",
        "We started by asking three questions. Fill in the answers to these below:"
      ]
    },
    {
      "cell_type": "code",
      "execution_count": 44,
      "metadata": {
        "id": "F3piFPsMdxgH",
        "colab": {
          "base_uri": "https://localhost:8080/"
        },
        "outputId": "825a7adb-ad1d-4114-c94e-5efb7c46f4b0"
      },
      "outputs": [
        {
          "output_type": "stream",
          "name": "stdout",
          "text": [
            "There were 1309 passengers on the Titanic.\n",
            "500 passengers survived the accident.\n",
            "809 passengers died in the accident.\n",
            "38.0% of passengers survived the accident.\n"
          ]
        }
      ],
      "source": [
        "from re import S\n",
        "# 1. How many people were on the Titanic?\n",
        "total_passengers = len(titanic_df)\n",
        "\n",
        "# 2. How many survived the accident?\n",
        "total_survivors = survived_counts.get(1)\n",
        "\n",
        "# 3. How many fatalities were there?\n",
        "total_fatalities = survived_counts.get(0)\n",
        "\n",
        "# 4. What percentage of passengers survived?\n",
        "percent_survivors = percentage_survived_counts.get(1).round(2) * 100\n",
        "\n",
        "print(f\"There were {total_passengers} passengers on the Titanic.\")\n",
        "print(f\"{total_survivors} passengers survived the accident.\")\n",
        "print(f\"{total_fatalities} passengers died in the accident.\")\n",
        "print(f\"{percent_survivors}% of passengers survived the accident.\")\n",
        "\n",
        "\n",
        "\n",
        "\n"
      ]
    },
    {
      "cell_type": "markdown",
      "metadata": {
        "id": "hD0M88vFdxgG"
      },
      "source": [
        "### Basic Data Filtering\n",
        "Another way to find the number of survivors is to access the `survived` column and filter out those rows that are equal to 1. Remember that the [data dictionary](#the-data-dictionary) specified that a \"1\" equals survived and a \"0\" equals didn't survive.  \n",
        "\n",
        "So we can write a line of Python that returns only values where `survived == 1`."
      ]
    },
    {
      "cell_type": "code",
      "execution_count": 45,
      "metadata": {
        "id": "BMFtuoxddxgG",
        "colab": {
          "base_uri": "https://localhost:8080/",
          "height": 35
        },
        "outputId": "6ba6a6db-fe89-48cd-8f1d-4b9b92923785"
      },
      "outputs": [
        {
          "output_type": "execute_result",
          "data": {
            "text/plain": [
              "'500 people survived the disaster.'"
            ],
            "application/vnd.google.colaboratory.intrinsic+json": {
              "type": "string"
            }
          },
          "metadata": {},
          "execution_count": 45
        }
      ],
      "source": [
        "survivors = titanic_df[titanic_df['survived'] == 1]\n",
        "\n",
        "# use Python's len function to compute the length of the survivors data frame\n",
        "total_number_of_survivors = len(survivors)\n",
        "\n",
        "format(f\"{total_number_of_survivors} people survived the disaster.\")"
      ]
    },
    {
      "cell_type": "markdown",
      "metadata": {
        "id": "XGfMJGiSdxgH"
      },
      "source": [
        "Similarly, we can ask how many passengers on the Titantic were male. For this, we want to look at the `sex` column and select only those rows where `sex == 'male'`. Here's the code:"
      ]
    },
    {
      "cell_type": "code",
      "execution_count": 46,
      "metadata": {
        "id": "58Ez0345dxgH",
        "colab": {
          "base_uri": "https://localhost:8080/",
          "height": 35
        },
        "outputId": "f85db533-92c5-4625-e9d0-5a0c27507901"
      },
      "outputs": [
        {
          "output_type": "execute_result",
          "data": {
            "text/plain": [
              "'843 men were onboard the Titanic.'"
            ],
            "application/vnd.google.colaboratory.intrinsic+json": {
              "type": "string"
            }
          },
          "metadata": {},
          "execution_count": 46
        }
      ],
      "source": [
        "male_passengers = titanic_df[titanic_df['sex'] == 'male']\n",
        "\n",
        "# use len to count the male passengers\n",
        "number_of_male_passengers = len(male_passengers)\n",
        "\n",
        "format(f\"{number_of_male_passengers} men were onboard the Titanic.\")"
      ]
    },
    {
      "cell_type": "markdown",
      "metadata": {
        "id": "GMjjT-K8dxgH"
      },
      "source": [
        "You can combine any number of conditional statements in pandas to focus on specific data. For example, we could ask how many survivors were male? In which case, we want two conditional statements:\n",
        "1. How many people survived (`survived == 1`), AND (&)\n",
        "2. How many people were male (`sex == 'male'`)"
      ]
    },
    {
      "cell_type": "code",
      "execution_count": 47,
      "metadata": {
        "id": "rbLq72mVdxgH",
        "colab": {
          "base_uri": "https://localhost:8080/"
        },
        "outputId": "2d4597c4-2718-4a16-cfe9-aff232a3ee0e"
      },
      "outputs": [
        {
          "output_type": "stream",
          "name": "stdout",
          "text": [
            "161 men survived the Titanic disaster.\n"
          ]
        }
      ],
      "source": [
        "male_survivors = titanic_df[(titanic_df['sex'] == 'male') & (titanic_df['survived'] == 1)]\n",
        "\n",
        "# use len to count the number of male survivors\n",
        "number_of_male_survivors = len(male_survivors)\n",
        "\n",
        "print(f\"{number_of_male_survivors} men survived the Titanic disaster.\")"
      ]
    },
    {
      "cell_type": "markdown",
      "metadata": {
        "id": "ZpGhl_xbeUZm"
      },
      "source": [
        "It's your turn now. How many female passengers survived the accident? You'll want to combine the number of survivors (`survived`) AND the number of female passengers (`sex`)."
      ]
    },
    {
      "cell_type": "code",
      "execution_count": 49,
      "metadata": {
        "id": "aTUf9-vceo-_",
        "colab": {
          "base_uri": "https://localhost:8080/"
        },
        "outputId": "2d050283-0724-497d-f19e-e814bf575bf6"
      },
      "outputs": [
        {
          "output_type": "stream",
          "name": "stdout",
          "text": [
            "339 women survived the Titanic disaster.\n"
          ]
        }
      ],
      "source": [
        "female_survivors = titanic_df[(titanic_df['sex'] == 'female') & (titanic_df['survived'] == 1)]\n",
        "\n",
        "# use Python's len to count the number of female survivors\n",
        "number_of_female_survivors = len(female_survivors)\n",
        "\n",
        "print(f\"{number_of_female_survivors} women survived the Titanic disaster.\")"
      ]
    },
    {
      "cell_type": "markdown",
      "metadata": {
        "id": "YBaVT49AndBL"
      },
      "source": [
        "What about children? Let's compute the following:\n",
        "1. How many children were on the Titanic? Let's consider \"children\" to be people 18 years old or under.\n",
        "2. How many children survived the disaster?\n",
        "3. What percentage of the women onboard survived? How about for men and childen?"
      ]
    },
    {
      "cell_type": "code",
      "execution_count": 55,
      "metadata": {
        "id": "OUCE_3J7RE5p",
        "colab": {
          "base_uri": "https://localhost:8080/"
        },
        "outputId": "a03aee74-cb3a-4cfe-e41d-021249a96c10"
      },
      "outputs": [
        {
          "output_type": "stream",
          "name": "stdout",
          "text": [
            "There were 193 children onboard the Titanic.\n",
            "95 of those children survived the accident.\n",
            "73% of the women onboard survived.\n",
            "19% of the men onboard survived.\n",
            "49% of the children onboard survived.\n"
          ]
        }
      ],
      "source": [
        "# How many children were on the Titanic? Let's consider \"children\" to be people\n",
        "# 18 years old or under.\n",
        "children_data = titanic_df[titanic_df['age'] <= 18]\n",
        "number_of_children = len(children_data)\n",
        "print(f\"There were {number_of_children} children onboard the Titanic.\")\n",
        "\n",
        "# How many children survived the disaster?\n",
        "child_survivors = titanic_df[(titanic_df['age'] <= 18) & (titanic_df['survived'] == 1)]\n",
        "number_of_child_survivors = len(child_survivors)\n",
        "print(f\"{number_of_child_survivors} of those children survived the accident.\")\n",
        "\n",
        "# What percentage of the women onboard survived?\n",
        "female_passengers = titanic_df[titanic_df['sex'] == 'female']\n",
        "number_of_female_passengers = len(female_passengers)\n",
        "percent_female_survivors = number_of_female_survivors / number_of_female_passengers\n",
        "\n",
        "# What percentage of the men onboard survived?\n",
        "percent_male_survivors = (number_of_male_survivors / number_of_male_passengers)\n",
        "\n",
        "# What percentage of the children onboard survived?\n",
        "percent_child_survivors = (number_of_child_survivors / number_of_children)\n",
        "\n",
        "print(f\"{percent_female_survivors*100:.0f}% of the women onboard survived.\")\n",
        "print(f\"{percent_male_survivors*100:.0f}% of the men onboard survived.\")\n",
        "print(f\"{percent_child_survivors*100:.0f}% of the children onboard survived.\")\n",
        "\n"
      ]
    },
    {
      "cell_type": "markdown",
      "metadata": {
        "id": "vO8eCiZ_5C8a"
      },
      "source": [
        "As an optional exercise, you could compute the percentage of survivors who were women, men, or children."
      ]
    },
    {
      "cell_type": "markdown",
      "metadata": {
        "id": "c4emfUdQoF33"
      },
      "source": [
        "## Cleaning the Data\n",
        "Let's use the `.info()` function to see some properties of the DataFrame."
      ]
    },
    {
      "cell_type": "code",
      "execution_count": 56,
      "metadata": {
        "id": "9g3JX5IEoF34",
        "colab": {
          "base_uri": "https://localhost:8080/"
        },
        "outputId": "a8832870-ec84-4f1e-8b71-a7df137a3f4f"
      },
      "outputs": [
        {
          "output_type": "stream",
          "name": "stdout",
          "text": [
            "<class 'pandas.core.frame.DataFrame'>\n",
            "RangeIndex: 1309 entries, 0 to 1308\n",
            "Data columns (total 14 columns):\n",
            " #   Column     Non-Null Count  Dtype  \n",
            "---  ------     --------------  -----  \n",
            " 0   pclass     1309 non-null   int64  \n",
            " 1   survived   1309 non-null   int64  \n",
            " 2   name       1309 non-null   object \n",
            " 3   sex        1309 non-null   object \n",
            " 4   age        1046 non-null   float64\n",
            " 5   sibsp      1309 non-null   int64  \n",
            " 6   parch      1309 non-null   int64  \n",
            " 7   ticket     1309 non-null   object \n",
            " 8   fare       1308 non-null   float64\n",
            " 9   cabin      295 non-null    object \n",
            " 10  embarked   1307 non-null   object \n",
            " 11  boat       486 non-null    object \n",
            " 12  body       121 non-null    float64\n",
            " 13  home.dest  745 non-null    object \n",
            "dtypes: float64(3), int64(4), object(7)\n",
            "memory usage: 143.3+ KB\n"
          ]
        }
      ],
      "source": [
        "titanic_df.info()"
      ]
    },
    {
      "cell_type": "markdown",
      "metadata": {
        "id": "zsLmcAVVlCw7"
      },
      "source": [
        "### The End...For Now\n",
        "\n",
        "Now go back to Canvas to finish up our first look at the Titanic.\n"
      ]
    }
  ],
  "metadata": {
    "colab": {
      "provenance": [],
      "include_colab_link": true
    },
    "kernelspec": {
      "display_name": "MLA",
      "language": "python",
      "name": "python3"
    },
    "language_info": {
      "codemirror_mode": {
        "name": "ipython",
        "version": 3
      },
      "file_extension": ".py",
      "mimetype": "text/x-python",
      "name": "python",
      "nbconvert_exporter": "python",
      "pygments_lexer": "ipython3",
      "version": "3.11.5"
    }
  },
  "nbformat": 4,
  "nbformat_minor": 0
}